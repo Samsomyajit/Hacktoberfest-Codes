{
  "nbformat": 4,
  "nbformat_minor": 0,
  "metadata": {
    "colab": {
      "name": "First_Date_with_TensorFlow.ipynb",
      "version": "0.3.2",
      "provenance": [],
      "include_colab_link": true
    },
    "kernelspec": {
      "name": "python3",
      "display_name": "Python 3"
    }
  },
  "cells": [
    {
      "cell_type": "markdown",
      "metadata": {
        "id": "view-in-github",
        "colab_type": "text"
      },
      "source": [
        "<a href=\"https://colab.research.google.com/github/rupamcyrax799/Assignment-4/blob/rupamcyrax799/First_Date_with_TensorFlow_FT.CyraX.ipynb\" target=\"_parent\"><img src=\"https://colab.research.google.com/assets/colab-badge.svg\" alt=\"Open In Colab\"/></a>"
      ]
    },
    {
      "metadata": {
        "id": "2XXfXed5YLbe",
        "colab_type": "text"
      },
      "cell_type": "markdown",
      "source": [
        "# First Date with TensorFlow\n",
        "\n",
        "Hi all,<br/>\n",
        "\n",
        "You know what's important for understanding Deep Learning / Machine Learning?<br/>\n",
        "Intuition. Period.\n",
        "\n",
        "And Intuition comes when you run the code multiple times.\n",
        "\n",
        "So, today I can write a couple of defination and say this is this, this is that.<br/>\n",
        "You Google half of the things up. You find answers which you need to Google further.<br/>\n",
        "In the process, you probably won't even remember what's the first thing you started out with!\n",
        "\n",
        "So?\n",
        "\n",
        "Hence on, I will execute cells with code. <br/>\n",
        "The neurons in your brain will optimize a function to get a hold of what each function is doing.<br/>\n",
        "**No Theory Just Code.**\n",
        "\n",
        "I will at max give a defination that extends for a line. That's it.<br/>\n",
        "Let's get started!\n",
        "\n",
        "<hr/>\n",
        "\n",
        "**RECOMMENDED!**<br/>\n",
        "Write the code in the cells using the signals sent by your brain to your fingers!<br/>\n",
        "Don't just `shift+enter` the cells.\n",
        "\n",
        "[Source](https://github.com/iArunava/TensorFlow-NoteBooks)"
      ]
    },
    {
      "metadata": {
        "id": "gYWUpE-bYKWP",
        "colab_type": "code",
        "colab": {}
      },
      "cell_type": "code",
      "source": [
        "# Essential imports\n",
        "import numpy as np\n",
        "import tensorflow as tf\n",
        "import matplotlib.pyplot as plt"
      ],
      "execution_count": 0,
      "outputs": []
    },
    {
      "metadata": {
        "id": "eKpz5NCIYMdi",
        "colab_type": "code",
        "colab": {}
      },
      "cell_type": "code",
      "source": [
        "# Let's define some tensors\n",
        "t1 = tf.constant(2.0, dtype=tf.float32)\n",
        "t2 = tf.constant([1.0, 2.0], dtype=tf.float32)\n",
        "t3 = tf.constant([[[1.0, 9.0], [2.0, 3.0], [4.0, 5.0]], \n",
        "                  [[1.0, 9.0], [2.0, 3.0], [4.0, 5.0]]])"
      ],
      "execution_count": 0,
      "outputs": []
    },
    {
      "metadata": {
        "id": "vmMcjzTxbWzw",
        "colab_type": "code",
        "colab": {
          "base_uri": "https://localhost:8080/",
          "height": 68
        },
        "outputId": "f7d8dd1e-4ca8-4473-ef20-1709a6d2c805"
      },
      "cell_type": "code",
      "source": [
        "# Let's print them out!\n",
        "print (t1)\n",
        "print (t2)\n",
        "print (t3)"
      ],
      "execution_count": 3,
      "outputs": [
        {
          "output_type": "stream",
          "text": [
            "Tensor(\"Const:0\", shape=(), dtype=float32)\n",
            "Tensor(\"Const_1:0\", shape=(2,), dtype=float32)\n",
            "Tensor(\"Const_2:0\", shape=(2, 3, 2), dtype=float32)\n"
          ],
          "name": "stdout"
        }
      ]
    },
    {
      "metadata": {
        "id": "10ahnfjYbcop",
        "colab_type": "text"
      },
      "cell_type": "markdown",
      "source": [
        "Where's Waldo?<br/>\n",
        "I mean, the value?<br/>\n",
        "\n",
        "So, the thing is you can't print the value of tensors directly.<br/>\n",
        "You have to use `session`, so let's do that!"
      ]
    },
    {
      "metadata": {
        "id": "ol6O5I7Tb2nb",
        "colab_type": "code",
        "colab": {
          "base_uri": "https://localhost:8080/",
          "height": 204
        },
        "outputId": "ce13a6aa-e900-4812-c6a2-58e2ef1a2eff"
      },
      "cell_type": "code",
      "source": [
        "sess = tf.Session()\n",
        "print (sess.run(t1))\n",
        "print (\"=======================\")\n",
        "print (sess.run(t2))\n",
        "print (\"=======================\")\n",
        "print (sess.run(t3))\n",
        "sess.close()"
      ],
      "execution_count": 4,
      "outputs": [
        {
          "output_type": "stream",
          "text": [
            "2.0\n",
            "=======================\n",
            "[1. 2.]\n",
            "=======================\n",
            "[[[1. 9.]\n",
            "  [2. 3.]\n",
            "  [4. 5.]]\n",
            "\n",
            " [[1. 9.]\n",
            "  [2. 3.]\n",
            "  [4. 5.]]]\n"
          ],
          "name": "stdout"
        }
      ]
    },
    {
      "metadata": {
        "id": "rXKfVs_zb-kU",
        "colab_type": "text"
      },
      "cell_type": "markdown",
      "source": [
        "Aaahaa!! Just printed those tensors!!!<br/>\n",
        "Feels good! <br/>\n",
        "\n",
        "For some of you, who are like, dude you got \"No Theory Just Code\" in bold <br/>\n",
        "And you are still using the markdown cells for the theory ?!\n",
        "\n",
        "I am just gonna say I am a unreasonable man.<br/>\n",
        "\n",
        "\n",
        "So, you are programming with tf.<br/>\n",
        "What ever you do is broken down to 2 basic steps:\n",
        "- Building the computational Graph!\n",
        "- Execute that graph using `session`!\n",
        "\n",
        "That's all!\n",
        "\n",
        "<hr/>\n",
        "\n",
        "Let's compare this 2 steps with what we did above!<br/>\n",
        "So, I defined 3 `tensor`s and these 3 `tensor`s formed my computational Graph.<br/>\n",
        "And then I executed each tensor in this graph using a `session`.\n",
        "\n",
        "That simple!\n",
        "\n",
        "<hr/>\n",
        "\n",
        "Now, let's define a few more computational graphs and execute them with sessions.\n",
        "\n",
        "Okay, to start with let's build this computational graph!\n",
        "\n",
        "![Comp Graph 1](https://raw.githubusercontent.com/iArunava/TensorFlow-NoteBooks/master/assets/comp_graph_1.jpg)"
      ]
    },
    {
      "metadata": {
        "id": "FyVz0GNqgreZ",
        "colab_type": "code",
        "colab": {
          "base_uri": "https://localhost:8080/",
          "height": 51
        },
        "outputId": "8e10aa64-9ba0-41e3-c843-c76fb613d1a0"
      },
      "cell_type": "code",
      "source": [
        "# Let's define the graph\n",
        "comp_graph_1 = tf.multiply(tf.add(78, 19), 79)\n",
        "\n",
        "# Alternatively\n",
        "comp_graph_1_alt = (tf.constant(78) + tf.constant(19)) * tf.constant(79)\n",
        "\n",
        "# Let's execute using session\n",
        "sess = tf.Session()\n",
        "print ('Comp Graph 1    : ', sess.run(comp_graph_1))\n",
        "print ('Comp Graph 1 Alt: ', sess.run(comp_graph_1_alt))\n",
        "sess.close()"
      ],
      "execution_count": 5,
      "outputs": [
        {
          "output_type": "stream",
          "text": [
            "Comp Graph 1    :  7663\n",
            "Comp Graph 1 Alt:  7663\n"
          ],
          "name": "stdout"
        }
      ]
    },
    {
      "metadata": {
        "id": "SVMMtuFYhaQB",
        "colab_type": "text"
      },
      "cell_type": "markdown",
      "source": [
        "Let's define a sligtly more involved graph!\n",
        "\n",
        "![alt text](https://raw.githubusercontent.com/iArunava/TensorFlow-NoteBooks/master/assets/comp_graph_2.jpg)"
      ]
    },
    {
      "metadata": {
        "id": "4856BTvRhiBb",
        "colab_type": "code",
        "colab": {
          "base_uri": "https://localhost:8080/",
          "height": 68
        },
        "outputId": "b2fdbb48-417a-4548-cd54-d42a9d2a3bc3"
      },
      "cell_type": "code",
      "source": [
        "# Let build the graph\n",
        "# We need to cast cause the tensors operated on should be of the same type\n",
        "comp_graph_part_1 = tf.cast(tf.subtract(tf.add(7, 8), tf.add(9, 10)), \n",
        "                            dtype=tf.float32)\n",
        "comp_graph_part_2 = tf.divide(tf.cast(tf.multiply(7, 10), dtype=tf.float32), tf.constant(19.5))\n",
        "comp_graph_complete = tf.maximum(comp_graph_part_1, comp_graph_part_2)\n",
        "\n",
        "# Let's execute\n",
        "sess = tf.Session()\n",
        "part1_res, part2_res, total_res = sess.run([comp_graph_part_1, comp_graph_part_2, comp_graph_complete])\n",
        "print ('Complete Result: ', total_res)\n",
        "print ('Part 1 Result: ', part1_res)\n",
        "print ('Part 2 Result: ', part2_res)\n",
        "sess.close()"
      ],
      "execution_count": 6,
      "outputs": [
        {
          "output_type": "stream",
          "text": [
            "Complete Result:  3.5897436\n",
            "Part 1 Result:  -4.0\n",
            "Part 2 Result:  3.5897436\n"
          ],
          "name": "stdout"
        }
      ]
    },
    {
      "metadata": {
        "id": "B-_ZDtEbj4N0",
        "colab_type": "text"
      },
      "cell_type": "markdown",
      "source": [
        "Cool! Let's go! Build another graph and execute it with sessions.<br/>\n",
        "\n",
        "But this time, it's all you!\n",
        "\n",
        "Build this graph and execute it with `session`!\n",
        "\n",
        "![alt text](https://raw.githubusercontent.com/iArunava/TensorFlow-NoteBooks/master/assets/comp_graph_3.jpg)\n",
        "\n",
        "_Remember that `tensors` operated on should be of the same type!_<br/>\n",
        "_Search up errors and other help you need on Google_"
      ]
    },
    {
      "metadata": {
        "id": "-uHNe1BolJY0",
        "colab_type": "code",
        "colab": {
          "base_uri": "https://localhost:8080/",
          "height": 68
        },
        "outputId": "d2f5e023-cf59-46c2-d83b-86476d8eb5a5"
      },
      "cell_type": "code",
      "source": [
        "# Build the graph\n",
        "# YOUR CODE HERE\n",
        "cog1 = tf.divide(tf.cast(tf.multiply([9.0,10.0], [7.0,8.65]), dtype=tf.float32), tf.constant(5.6))\n",
        "cog2 = tf.cast(tf.add([7.65,9.0], [13.5,7.18]),dtype=tf.float32)\n",
        "cg = tf.minimum(cog1, cog2)\n",
        "# Execute \n",
        "# YOUR CODE HERE\n",
        "sess = tf.Session()\n",
        "p1_res, p2_res, total_res = sess.run([cog1, cog2, cg])\n",
        "print ('Complete Result: ', total_res)\n",
        "print ('Part 1 Result: ', p1_res)\n",
        "print ('Part 2 Result: ', p2_res)\n",
        "sess.close()"
      ],
      "execution_count": 7,
      "outputs": [
        {
          "output_type": "stream",
          "text": [
            "Complete Result:  [11.25     15.446429]\n",
            "Part 1 Result:  [11.25     15.446429]\n",
            "Part 2 Result:  [21.15 16.18]\n"
          ],
          "name": "stdout"
        }
      ]
    },
    {
      "metadata": {
        "id": "qmap38WelREN",
        "colab_type": "text"
      },
      "cell_type": "markdown",
      "source": [
        "Let's do another!<br/>\n",
        "It's fun! Isn't it?!\n",
        "\n",
        "Build and execute this one!\n",
        "\n",
        "![alt text](https://raw.githubusercontent.com/iArunava/TensorFlow-NoteBooks/master/assets/comp_graph_4.jpg)"
      ]
    },
    {
      "metadata": {
        "id": "0ZhYwAlLmEvB",
        "colab_type": "code",
        "colab": {
          "base_uri": "https://localhost:8080/",
          "height": 119
        },
        "outputId": "a0b734b0-bc89-45eb-c896-1534776a1fd0"
      },
      "cell_type": "code",
      "source": [
        "# Build the graph\n",
        "# YOUR CODE HERE\n",
        "X=np.array([[1.2,3.4],[7.5,8.6]])\n",
        "Y=np.array([[7.0,9.0],[8.0,6.0]])\n",
        "print(np.min(X,axis=1))\n",
        "kk=tf.cast(tf.multiply(np.min(X,axis=1),Y),dtype=tf.float32)\n",
        "sess=tf.Session()\n",
        "Z=np.array([[2.6,18.1],[7.86,9.81],[9.36,10.41]])\n",
        "Z=np.transpose(Z)\n",
        "W=np.array([[2.79,3.81,5.6],[7.3,5.67,8.9]])\n",
        "kk2=tf.cast(np.sum(sess.run(tf.multiply(W,Z))),dtype=tf.float32)\n",
        "f=tf.add(kk,kk2)\n",
        "# Execute \n",
        "# YOUR CODE HERE\n",
        "p1_res, p2_res, total_res = sess.run([kk, kk2, f])\n",
        "print ('Complete Result: ', total_res)\n",
        "print ('Part 1 Result: ', p1_res)\n",
        "print ('Part 2 Result: ', p2_res)\n",
        "sess.close()"
      ],
      "execution_count": 9,
      "outputs": [
        {
          "output_type": "stream",
          "text": [
            "[1.2 7.5]\n",
            "Complete Result:  [[378.4183  437.5183 ]\n",
            " [379.61832 415.0183 ]]\n",
            "Part 1 Result:  [[ 8.4 67.5]\n",
            " [ 9.6 45. ]]\n",
            "Part 2 Result:  370.0183\n"
          ],
          "name": "stdout"
        }
      ]
    },
    {
      "metadata": {
        "id": "BnB0b6qCmGmg",
        "colab_type": "text"
      },
      "cell_type": "markdown",
      "source": [
        "And a final one, before we move on to the next part!\n",
        "\n",
        "![alt text](https://raw.githubusercontent.com/iArunava/TensorFlow-NoteBooks/master/assets/comp_graph_5.jpg)"
      ]
    },
    {
      "metadata": {
        "id": "GQWyCvsQmMcL",
        "colab_type": "code",
        "colab": {
          "base_uri": "https://localhost:8080/",
          "height": 68
        },
        "outputId": "1681058a-f49c-4d11-ea0b-a4b354ae17af"
      },
      "cell_type": "code",
      "source": [
        "# Build the graph\n",
        "# YOUR CODE HERE\n",
        "sess=tf.Session()\n",
        "X=np.array([[7.36,8.91,10.41],[5.31,9.38,7.99]])\n",
        "Y=np.transpose(np.array([[7.99,10.36],[5.36,7.98],[8.91,5.67]]))\n",
        "kk=tf.cast(tf.divide(tf.add(7.0,np.sum(sess.run(tf.multiply(X,Y)))),19.6),dtype=tf.float32)\n",
        "ttl=tf.divide(kk,tf.constant([[1,5.6,6.1,8],[0,0,7.98,9],[0,0,7.6,7],[0,0,0,8.98]],dtype=tf.float32))\n",
        "# Execute \n",
        "# YOUR CODE HERE\n",
        "xRes,ttlRes = sess.run([kk, f])\n",
        "print ('Complete Result: ', ttlRes)\n",
        "print ('Part 1 Result: ', xRes)\n",
        "\n",
        "sess.close()"
      ],
      "execution_count": 11,
      "outputs": [
        {
          "output_type": "stream",
          "text": [
            "Complete Result:  [[378.4183  437.5183 ]\n",
            " [379.61832 415.0183 ]]\n",
            "Part 1 Result:  19.46349\n"
          ],
          "name": "stdout"
        }
      ]
    },
    {
      "metadata": {
        "id": "12NC7XTPsJw7",
        "colab_type": "text"
      },
      "cell_type": "markdown",
      "source": [
        "# Linear Regression\n",
        "\n",
        "Okay, now we will create a dummy dataset and perform linear regression on this dataset!\n",
        "\n",
        "\n",
        "To get you in the habit of looking up for the documentation, I am not providing what some of the following functions does, Google them up!"
      ]
    },
    {
      "metadata": {
        "id": "hW31RZkjtNwI",
        "colab_type": "code",
        "colab": {}
      },
      "cell_type": "code",
      "source": [
        "# Create the dataset\n",
        "X = np.linspace(-30.0, 300.0, 300)\n",
        "Y = 2 * np.linspace(-30.0, 250.0, 300) + np.random.randn(*X.shape)\n",
        "\n",
        "# Normalize the dataset\n",
        "X = X / np.max(X)\n",
        "Y = Y / np.max(Y)\n",
        "\n",
        "# Divide it into train and test\n",
        "train_X = X[:250]\n",
        "train_Y = Y[:250]\n",
        "\n",
        "test_X = X[250:]\n",
        "test_Y = Y[250:]"
      ],
      "execution_count": 0,
      "outputs": []
    },
    {
      "metadata": {
        "id": "LQKy6U33y4lt",
        "colab_type": "code",
        "colab": {}
      },
      "cell_type": "code",
      "source": [
        "# Let's define the hyperparameters\n",
        "learning_rate = 0.00001\n",
        "n_epochs = 60\n",
        "interval = 20"
      ],
      "execution_count": 0,
      "outputs": []
    },
    {
      "metadata": {
        "id": "1h1-D8K1uT48",
        "colab_type": "code",
        "outputId": "90416653-4148-429f-fbb1-502a71289b31",
        "colab": {
          "base_uri": "https://localhost:8080/",
          "height": 350
        }
      },
      "cell_type": "code",
      "source": [
        "# let's viz the first 10 datapoints of the dataset\n",
        "plt.plot(train_X[:10], train_Y[:10], 'g')\n",
        "plt.show()"
      ],
      "execution_count": 14,
      "outputs": [
        {
          "output_type": "display_data",
          "data": {
            "image/png": "[encoded data removed]",
            "text/plain": [
              "<Figure size 576x396 with 1 Axes>"
            ]
          },
          "metadata": {
            "tags": []
          }
        }
      ]
    },
    {
      "metadata": {
        "id": "jrsUps0nu8vj",
        "colab_type": "text"
      },
      "cell_type": "markdown",
      "source": [
        "** Question **<br/>\n",
        "Why did I created a session to plot the graph?<br/>\n",
        "[Ans]"
      ]
    },
    {
      "metadata": {
        "id": "P3-iuxE4sjAf",
        "colab_type": "code",
        "colab": {}
      },
      "cell_type": "code",
      "source": [
        "# Let's define the placeholders\n",
        "\n",
        "# Placeholders?\n",
        "# The input to the model changes on iteration\n",
        "# So we cannot have a constant in the input as we did before\n",
        "# And thus we need placeholders which we can change on each \n",
        "# iteration of the training\n",
        "\n",
        "x = tf.placeholder(tf.float32, name='x')\n",
        "y = tf.placeholder(tf.float32, name='y')"
      ],
      "execution_count": 0,
      "outputs": []
    },
    {
      "metadata": {
        "id": "8hPRkaoxvRyV",
        "colab_type": "code",
        "colab": {
          "base_uri": "https://localhost:8080/",
          "height": 88
        },
        "outputId": "53ba8b0a-4c2b-4b3b-8276-33ca71690ef1"
      },
      "cell_type": "code",
      "source": [
        "# Let's define the linear regression model\n",
        "\n",
        "# tf.Variable?\n",
        "# We define the model parameters as tf.Variables\n",
        "# as they get updated throghout the training.\n",
        "# And variables denotes something which changes overtime.\n",
        "\n",
        "W = tf.Variable(np.random.random_sample(), name='weight_1')\n",
        "b = tf.Variable(np.random.random_sample(), name='bias_1')\n",
        "\n",
        "pred_y = (W*x) + b"
      ],
      "execution_count": 16,
      "outputs": [
        {
          "output_type": "stream",
          "text": [
            "WARNING:tensorflow:From /usr/local/lib/python3.6/dist-packages/tensorflow/python/framework/op_def_library.py:263: colocate_with (from tensorflow.python.framework.ops) is deprecated and will be removed in a future version.\n",
            "Instructions for updating:\n",
            "Colocations handled automatically by placer.\n"
          ],
          "name": "stdout"
        }
      ]
    },
    {
      "metadata": {
        "id": "cSw1P8bkv96r",
        "colab_type": "code",
        "colab": {}
      },
      "cell_type": "code",
      "source": [
        "# Let's define the loss function\n",
        "# We are going to use the mean squared loss\n",
        "loss = tf.reduce_mean(tf.square(y - pred_y))"
      ],
      "execution_count": 0,
      "outputs": []
    },
    {
      "metadata": {
        "id": "5G4uQqjsygNj",
        "colab_type": "code",
        "colab": {
          "base_uri": "https://localhost:8080/",
          "height": 88
        },
        "outputId": "1a675063-607c-4a96-fd95-e9652296eac8"
      },
      "cell_type": "code",
      "source": [
        "# Let's define the optimizer\n",
        "# And specify the which value (i.e. loss) it has to minimize\n",
        "optimizer = tf.train.GradientDescentOptimizer(learning_rate=learning_rate).minimize(loss)"
      ],
      "execution_count": 18,
      "outputs": [
        {
          "output_type": "stream",
          "text": [
            "WARNING:tensorflow:From /usr/local/lib/python3.6/dist-packages/tensorflow/python/ops/math_ops.py:3066: to_int32 (from tensorflow.python.ops.math_ops) is deprecated and will be removed in a future version.\n",
            "Instructions for updating:\n",
            "Use tf.cast instead.\n"
          ],
          "name": "stdout"
        }
      ]
    },
    {
      "metadata": {
        "id": "ttI7ZT-ozAm1",
        "colab_type": "code",
        "outputId": "9d1eab03-3851-4be7-a50b-1a7147eeb841",
        "colab": {
          "base_uri": "https://localhost:8080/",
          "height": 432
        }
      },
      "cell_type": "code",
      "source": [
        "# So the graph is now built\n",
        "# Now let's execute the graph using session\n",
        "# i.e. lets train the model\n",
        "\n",
        "# What it is to train a model?\n",
        "# To update the paramters in the graph (i.e. tf.Variables)\n",
        "# So that the loss is minimized\n",
        "\n",
        "# Okay let's start!\n",
        "with tf.Session() as sess:\n",
        "  # We need to initialize the variables in our graph\n",
        "  sess.run(tf.global_variables_initializer())\n",
        "  \n",
        "  for epoch in range(n_epochs):\n",
        "    _, curr_loss = sess.run([optimizer, loss], feed_dict={x:train_X, y:train_Y})\n",
        "    \n",
        "    if epoch % interval == 0:\n",
        "      print ('Loss after epoch', epoch, ' is ', curr_loss)\n",
        "    \n",
        "  print ('Now testing the model in the test set')\n",
        "  final_preds, final_loss = sess.run([pred_y, loss], feed_dict={x:test_X, y:test_Y})\n",
        "  \n",
        "    \n",
        "  print ('The final loss is: ', final_loss)\n",
        "  \n",
        "  # Plotting the final predictions against the true predictions\n",
        "  plt.plot(test_X, test_Y, 'g', label='True Function')\n",
        "  plt.plot(test_X, final_preds, 'r', label='Predicted Function')\n",
        "  plt.legend()\n",
        "  plt.show()"
      ],
      "execution_count": 22,
      "outputs": [
        {
          "output_type": "stream",
          "text": [
            "Loss after epoch 0  is  0.07394742\n",
            "Loss after epoch 20  is  0.07394247\n",
            "Loss after epoch 40  is  0.073937505\n",
            "Now testing the model in the test set\n",
            "The final loss is:  0.24076582\n"
          ],
          "name": "stdout"
        },
        {
          "output_type": "display_data",
          "data": {
            "image/png": "[encoded data removed]",
            "text/plain": [
              "<Figure size 576x396 with 1 Axes>"
            ]
          },
          "metadata": {
            "tags": []
          }
        }
      ]
    },
    {
      "metadata": {
        "id": "jgmH3wwt1src",
        "colab_type": "text"
      },
      "cell_type": "markdown",
      "source": [
        "Okay, so we are doing good!<br/>\n",
        "\n",
        "Now, let me just put everything here into one function so that you can tweak the hyperparameters easily!\n",
        "\n",
        "Or better, do it yourself!"
      ]
    },
    {
      "metadata": {
        "id": "OZ5TY7B_4E_v",
        "colab_type": "code",
        "colab": {
          "base_uri": "https://localhost:8080/",
          "height": 415
        },
        "outputId": "09eccd3c-828f-4841-ee11-0cd0b397bda7"
      },
      "cell_type": "code",
      "source": [
        "X = np.linspace(-50.0, 500.0, 500)\n",
        "Y = 2 * np.linspace(-50.0, 250.0, 500) + np.random.randn(*X.shape)\n",
        "\n",
        "# Normalizing\n",
        "X = X / np.max(X)\n",
        "Y = Y / np.max(Y)\n",
        "\n",
        "# separating for train and test\n",
        "train_X = X[:250]\n",
        "train_Y = Y[:250]\n",
        "\n",
        "test_X = X[250:]\n",
        "test_Y = Y[250:]\n",
        "\n",
        "def linear_regression(learning_rate, n_epochs, interval):  \n",
        "  x1 = tf.placeholder(tf.float32, name=\"x1\")\n",
        "  y1 = tf.placeholder(tf.float32, name=\"y1\")\n",
        "\n",
        "\n",
        "  wght = tf.Variable(0.0, name='wght')\n",
        "  bs = tf.Variable(0.0, name='bs')\n",
        "\n",
        "  pred_y = ((wght)*x1) + bs\n",
        "\n",
        "  loss = tf.reduce_mean(tf.square(y1 - pred_y))\n",
        "\n",
        "  optimizer = tf.train.GradientDescentOptimizer(learning_rate=learning_rate).minimize(loss)\n",
        "\n",
        "  with tf.Session() as sess:\n",
        "\n",
        "    sess.run(tf.global_variables_initializer())\n",
        "\n",
        "    for epoch in range(n_epochs):\n",
        "      _, curr_loss = sess.run([optimizer, loss], feed_dict={x1:train_X, y1:train_Y})\n",
        "\n",
        "      if epoch % interval == 0:\n",
        "        print ('Loss after epoch', epoch, ' is ', curr_loss)\n",
        "\n",
        "    print ('Now testing the model in the test set')\n",
        "    final_preds, final_loss = sess.run([pred_y, loss], feed_dict={x1:test_X, y1:test_Y})\n",
        "\n",
        "    print ('The final loss is: ', final_loss)\n",
        "\n",
        "    plt.plot(test_X[:10], test_Y[:10], 'g', label='True Function')\n",
        "    plt.plot(test_X[:10], final_preds[:10], 'r', label='Predicted Function')\n",
        "    plt.legend()\n",
        "    plt.show()\n",
        "\n",
        "linear_regression(learning_rate=0.000005, n_epochs=100, interval=50)\n"
      ],
      "execution_count": 26,
      "outputs": [
        {
          "output_type": "stream",
          "text": [
            "Loss after epoch 0  is  0.03985174\n",
            "Loss after epoch 50  is  0.03983989\n",
            "Now testing the model in the test set\n",
            "The final loss is:  0.51966065\n"
          ],
          "name": "stdout"
        },
        {
          "output_type": "display_data",
          "data": {
            "image/png": "[encoded data removed]",
            "text/plain": [
              "<Figure size 576x396 with 1 Axes>"
            ]
          },
          "metadata": {
            "tags": []
          }
        }
      ]
    },
    {
      "metadata": {
        "id": "A6MaclhK4rc6",
        "colab_type": "code",
        "colab": {
          "base_uri": "https://localhost:8080/",
          "height": 551
        },
        "outputId": "b1e15e78-8771-4fc1-84ba-a0f121a602af"
      },
      "cell_type": "code",
      "source": [
        "# Okay! Now let's tweak!\n",
        "linear_regression(learning_rate=0.000034, n_epochs=500,interval=50)"
      ],
      "execution_count": 27,
      "outputs": [
        {
          "output_type": "stream",
          "text": [
            "Loss after epoch 0  is  0.03985174\n",
            "Loss after epoch 50  is  0.039771408\n",
            "Loss after epoch 100  is  0.0396916\n",
            "Loss after epoch 150  is  0.039612323\n",
            "Loss after epoch 200  is  0.03953356\n",
            "Loss after epoch 250  is  0.039455317\n",
            "Loss after epoch 300  is  0.039377593\n",
            "Loss after epoch 350  is  0.039300375\n",
            "Loss after epoch 400  is  0.03922366\n",
            "Loss after epoch 450  is  0.039147448\n",
            "Now testing the model in the test set\n",
            "The final loss is:  0.5136106\n"
          ],
          "name": "stdout"
        },
        {
          "output_type": "display_data",
          "data": {
            "image/png": "[encoded data removed]",
            "text/plain": [
              "<Figure size 576x396 with 1 Axes>"
            ]
          },
          "metadata": {
            "tags": []
          }
        }
      ]
    },
    {
      "metadata": {
        "id": "peoHmV2M40uU",
        "colab_type": "code",
        "colab": {
          "base_uri": "https://localhost:8080/",
          "height": 721
        },
        "outputId": "f3b9cef6-5cb0-4fe4-dbcc-b31d0e3da01a"
      },
      "cell_type": "code",
      "source": [
        "linear_regression(learning_rate=0.0000006, n_epochs=1000,interval=50)"
      ],
      "execution_count": 29,
      "outputs": [
        {
          "output_type": "stream",
          "text": [
            "Loss after epoch 0  is  0.03985174\n",
            "Loss after epoch 50  is  0.03985032\n",
            "Loss after epoch 100  is  0.039848898\n",
            "Loss after epoch 150  is  0.03984747\n",
            "Loss after epoch 200  is  0.039846055\n",
            "Loss after epoch 250  is  0.039844636\n",
            "Loss after epoch 300  is  0.039843213\n",
            "Loss after epoch 350  is  0.03984179\n",
            "Loss after epoch 400  is  0.03984037\n",
            "Loss after epoch 450  is  0.039838947\n",
            "Loss after epoch 500  is  0.039837524\n",
            "Loss after epoch 550  is  0.039836105\n",
            "Loss after epoch 600  is  0.039834686\n",
            "Loss after epoch 650  is  0.039833266\n",
            "Loss after epoch 700  is  0.039831843\n",
            "Loss after epoch 750  is  0.039830424\n",
            "Loss after epoch 800  is  0.039829005\n",
            "Loss after epoch 850  is  0.03982759\n",
            "Loss after epoch 900  is  0.03982617\n",
            "Loss after epoch 950  is  0.039824747\n",
            "Now testing the model in the test set\n",
            "The final loss is:  0.5196233\n"
          ],
          "name": "stdout"
        },
        {
          "output_type": "display_data",
          "data": {
            "image/png": "[encoded data removed]",
            "text/plain": [
              "<Figure size 576x396 with 1 Axes>"
            ]
          },
          "metadata": {
            "tags": []
          }
        }
      ]
    },
    {
      "metadata": {
        "id": "KjY_KnlE5ClG",
        "colab_type": "text"
      },
      "cell_type": "markdown",
      "source": [
        "## Drive the loss to a minimum."
      ]
    },
    {
      "metadata": {
        "id": "JKiHjGN15HPX",
        "colab_type": "code",
        "colab": {
          "base_uri": "https://localhost:8080/",
          "height": 568
        },
        "outputId": "aa645a3d-25c6-4a9d-d7c0-972f6d14d003"
      },
      "cell_type": "code",
      "source": [
        "# YOUR CODE HERE\n",
        "linear_regression(learning_rate=0.005, n_epochs=100001, interval=10000)"
      ],
      "execution_count": 30,
      "outputs": [
        {
          "output_type": "stream",
          "text": [
            "Loss after epoch 0  is  0.03985174\n",
            "Loss after epoch 10000  is  0.00021830869\n",
            "Loss after epoch 20000  is  5.600162e-06\n",
            "Loss after epoch 30000  is  4.03015e-06\n",
            "Loss after epoch 40000  is  4.019467e-06\n",
            "Loss after epoch 50000  is  4.019467e-06\n",
            "Loss after epoch 60000  is  4.019467e-06\n",
            "Loss after epoch 70000  is  4.019467e-06\n",
            "Loss after epoch 80000  is  4.019467e-06\n",
            "Loss after epoch 90000  is  4.019467e-06\n",
            "Loss after epoch 100000  is  4.019467e-06\n",
            "Now testing the model in the test set\n",
            "The final loss is:  4.6458417e-06\n"
          ],
          "name": "stdout"
        },
        {
          "output_type": "display_data",
          "data": {
            "image/png": "[encoded data removed]",
            "text/plain": [
              "<Figure size 576x396 with 1 Axes>"
            ]
          },
          "metadata": {
            "tags": []
          }
        }
      ]
    },
    {
      "metadata": {
        "id": "Kwo3QZWWT-zZ",
        "colab_type": "code",
        "colab": {}
      },
      "cell_type": "code",
      "source": [
        ""
      ],
      "execution_count": 0,
      "outputs": []
    }
  ]
}
